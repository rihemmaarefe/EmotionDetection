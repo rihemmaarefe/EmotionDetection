{
  "cells": [
    {
      "cell_type": "markdown",
      "metadata": {
        "id": "view-in-github",
        "colab_type": "text"
      },
      "source": [
        "<a href=\"https://colab.research.google.com/github/rihemmaarefe/EmotionDetection/blob/main/prod.ipynb\" target=\"_parent\"><img src=\"https://colab.research.google.com/assets/colab-badge.svg\" alt=\"Open In Colab\"/></a>"
      ]
    },
    {
      "cell_type": "code",
      "execution_count": null,
      "metadata": {
        "id": "AQzEX0JB4Wjp"
      },
      "outputs": [],
      "source": [
        "# Load the necessary libraries and data\n",
        "import pandas as pd\n",
        "from sklearn.model_selection import train_test_split\n",
        "from sklearn.feature_extraction.text import CountVectorizer\n",
        "from sklearn.naive_bayes import MultinomialNB\n",
        "from sklearn.metrics import accuracy_score\n",
        "\n",
        "# Load the dataset\n",
        "data = pd.read_csv('/content/drive/MyDrive/stage/trainDataset.csv')\n",
        "\n",
        "X = data['meaning']\n",
        "y = data['category']\n",
        "\n",
        "# Split the data into training and testing sets\n",
        "X_train, X_test, y_train, y_test = train_test_split(X, y, test_size=0.2, random_state=42)\n",
        "\n",
        "# Preprocess the data using the CountVectorizer\n",
        "vectorizer = CountVectorizer(stop_words='english')\n",
        "X_train_counts = vectorizer.fit_transform(X_train)\n",
        "X_test_counts = vectorizer.transform(X_test)\n",
        "\n",
        "# Train a machine learning model\n",
        "model = MultinomialNB()\n",
        "model.fit(X_train_counts, y_train)\n",
        "\n",
        "# Evaluate the model's accuracy on the testing set\n",
        "y_pred = model.predict(X_test_counts)\n",
        "accuracy = accuracy_score(y_test, y_pred)\n",
        "print('Accuracy:', accuracy)\n",
        "\n",
        "# Load the new file to be labeled\n",
        "new_data = pd.read_csv('/content/drive/MyDrive/stage/data/546070.csv')  # Adjust the path to your new file\n",
        "\n",
        "# Handling missing values in the new data\n",
        "new_data['meaning'] = new_data['meaning'].fillna('')  # Replace NaN values with an empty string\n",
        "\n",
        "# Preprocess the new data using the same vectorizer\n",
        "X_new_counts = vectorizer.transform(new_data['meaning'])\n",
        "\n",
        "# Make predictions on the new data\n",
        "y_pred = model.predict(X_new_counts)\n",
        "\n",
        "# Add the predicted labels to the new data\n",
        "new_data['predicted_label1'] = y_pred\n",
        "\n",
        "# Save the labeled data to a new file\n",
        "new_data.to_csv('/content/drive/MyDrive/stage/model/withPrediction.csv', index=False)  # Adjust the path and filename as needed"
      ]
    },
    {
      "cell_type": "code",
      "execution_count": null,
      "metadata": {
        "id": "3UlJYJDIDxD-"
      },
      "outputs": [],
      "source": [
        "!pip install fasttext"
      ]
    },
    {
      "cell_type": "code",
      "execution_count": null,
      "metadata": {
        "id": "rVw43Mc_Duiu",
        "colab": {
          "base_uri": "https://localhost:8080/"
        },
        "outputId": "4f844c9d-0ae4-4cf3-a8cf-42454b9e188c"
      },
      "outputs": [
        {
          "output_type": "stream",
          "name": "stderr",
          "text": [
            "[nltk_data] Downloading package punkt to /root/nltk_data...\n",
            "[nltk_data]   Unzipping tokenizers/punkt.zip.\n",
            "[nltk_data] Downloading package stopwords to /root/nltk_data...\n",
            "[nltk_data]   Unzipping corpora/stopwords.zip.\n",
            "/usr/local/lib/python3.10/dist-packages/sklearn/cluster/_kmeans.py:870: FutureWarning: The default value of `n_init` will change from 10 to 'auto' in 1.4. Set the value of `n_init` explicitly to suppress the warning\n",
            "  warnings.warn(\n"
          ]
        }
      ],
      "source": [
        "import pandas as pd\n",
        "from sklearn.feature_extraction.text import TfidfVectorizer\n",
        "from sklearn.cluster import KMeans\n",
        "import re\n",
        "import nltk\n",
        "nltk.download('punkt')\n",
        "nltk.download('stopwords')\n",
        "from nltk.corpus import stopwords\n",
        "from nltk.tokenize import word_tokenize\n",
        "\n",
        "# Load the dataset\n",
        "dataset = pd.read_csv('/content/drive/MyDrive/stage/model/withPrediction.csv')\n",
        "\n",
        "# Clean the \"meaning\" column\n",
        "def clean_text(text):\n",
        "    if pd.isnull(text):  # Check if the value is NaN\n",
        "        return ''  # Replace with an empty string\n",
        "\n",
        "    # Convert to lowercase\n",
        "    text = text.lower()\n",
        "\n",
        "    # Remove punctuation\n",
        "    text = re.sub(r'[^\\w\\s]', '', text)\n",
        "\n",
        "    # Tokenize the text\n",
        "    tokens = word_tokenize(text)\n",
        "\n",
        "    # Remove stopwords\n",
        "    stop_words = set(stopwords.words('english'))\n",
        "    filtered_tokens = [token for token in tokens if token not in stop_words]\n",
        "\n",
        "    # Join the tokens back into a single string\n",
        "    cleaned_text = ' '.join(filtered_tokens)\n",
        "\n",
        "    return cleaned_text\n",
        "\n",
        "# Apply the cleaning function to the \"meaning\" column\n",
        "dataset['meaning'] = dataset['meaning'].apply(clean_text)\n",
        "\n",
        "# Handle missing values\n",
        "dataset['meaning'].fillna('', inplace=True)\n",
        "\n",
        "# Feature extraction using TF-IDF vectorization\n",
        "vectorizer = TfidfVectorizer()\n",
        "X = vectorizer.fit_transform(dataset['meaning'])\n",
        "\n",
        "# clustering\n",
        "num_clusters = 10  # Set the number of clusters (10 emotiomns)\n",
        "kmeans = KMeans(n_clusters=num_clusters, random_state=42)\n",
        "kmeans.fit(X)\n",
        "\n",
        "# Map cluster labels to emotion names\n",
        "emotion_names = ['joy', 'sadness', 'anger', 'excitement', 'fear', 'love', 'trust', 'disgust', 'anticipation', 'surprise']\n",
        "cluster_names = [emotion_names[label] for label in kmeans.labels_]\n",
        "\n",
        "# Create a new DataFrame with cluster labels and word information\n",
        "cluster_data = pd.DataFrame({\n",
        "    'Word': dataset['word'],\n",
        "    'Type': dataset['type'],\n",
        "    'Meaning': dataset['meaning'],\n",
        "    'Prediction': dataset['predicted_label1'],\n",
        "    'Emotion': cluster_names\n",
        "})\n",
        "\n",
        "# Save the new DataFrame to a CSV file\n",
        "cluster_data.to_csv('emotionClusterF.csv', index=False)\n"
      ]
    },
    {
      "cell_type": "code",
      "source": [],
      "metadata": {
        "id": "OvBiuZ5fLmm1"
      },
      "execution_count": null,
      "outputs": []
    }
  ],
  "metadata": {
    "colab": {
      "provenance": [],
      "mount_file_id": "1AK4Q7LBmeEyvA-DnTmQI8UHPtFfTHuRz",
      "authorship_tag": "ABX9TyOafMafEI/ccW0htnlgXfAP",
      "include_colab_link": true
    },
    "kernelspec": {
      "display_name": "Python 3",
      "name": "python3"
    },
    "language_info": {
      "name": "python"
    }
  },
  "nbformat": 4,
  "nbformat_minor": 0
}